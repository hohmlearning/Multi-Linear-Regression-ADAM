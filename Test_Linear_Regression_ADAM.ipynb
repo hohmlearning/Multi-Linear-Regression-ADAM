{
 "cells": [
  {
   "cell_type": "markdown",
   "metadata": {},
   "source": [
    "# Test Linear Regression with ADAM"
   ]
  },
  {
   "cell_type": "code",
   "execution_count": 1,
   "metadata": {},
   "outputs": [],
   "source": [
    "import numpy as np\n",
    "import matplotlib.pyplot as plt\n",
    "import pandas as pd\n",
    "from sklearn.datasets import load_diabetes\n",
    "from sklearn.linear_model import LinearRegression, Ridge"
   ]
  },
  {
   "cell_type": "code",
   "execution_count": 2,
   "metadata": {},
   "outputs": [],
   "source": [
    "import sys\n",
    "sys.path.insert(1, 'Modules/')\n",
    "from Evaluation_Metric import Metric_regression\n",
    "from Linear_Regression_ADAM import ADAM, ADAM_learning_rate_decay, ADAM_learning_rate_decay_full_train\n",
    "from Cross_validation import preparation_cross_validation\n",
    "golden_section_search = __import__('20220716_Golden_Section_Search').golden_section_search"
   ]
  },
  {
   "cell_type": "markdown",
   "metadata": {},
   "source": [
    "## 1. Loading data set\n",
    "The Diabetes dataset is loaded as a toy dataset. \n",
    "The different models are compared based on the diabetes dataset. \n",
    "\n",
    "Additional information are referred to: https://scikit-learn.org/stable/datasets/toy_dataset.html#diabetes-dataset (accessed 18th July 2022)\n"
   ]
  },
  {
   "cell_type": "code",
   "execution_count": 3,
   "metadata": {},
   "outputs": [],
   "source": [
    "diabetes = load_diabetes()\n",
    "X = diabetes.data\n",
    "y = diabetes.target"
   ]
  },
  {
   "cell_type": "markdown",
   "metadata": {},
   "source": [
    "## 2. Standardization of the dataset"
   ]
  },
  {
   "cell_type": "code",
   "execution_count": 4,
   "metadata": {},
   "outputs": [],
   "source": [
    "X = X - X.mean(axis=0)\n",
    "X = X / X.var(axis=0)**0.5"
   ]
  },
  {
   "cell_type": "markdown",
   "metadata": {},
   "source": [
    "## 3. Splitting data in train and test\n",
    "The models are trained based on the training data. The performance evaluation is performed on the test data. \n",
    "Therefore, the data is splitted in train (90 %) and test (10 %)."
   ]
  },
  {
   "cell_type": "code",
   "execution_count": 5,
   "metadata": {},
   "outputs": [],
   "source": [
    "n_train = int(y.shape[0] * 0.9)\n",
    "X_train = X[:n_train,:]\n",
    "y_train = y[:n_train]\n",
    "X_test =  X[n_train:,:]\n",
    "y_test = y[n_train:]"
   ]
  },
  {
   "cell_type": "markdown",
   "metadata": {},
   "source": [
    "## 4. Fitting models to train\n",
    "First, the reference Linear Regression with analytical solution is performed using the modul **Scikit-learn**."
   ]
  },
  {
   "cell_type": "code",
   "execution_count": 6,
   "metadata": {},
   "outputs": [
    {
     "name": "stdout",
     "output_type": "stream",
     "text": [
      "1. Fit direct Linear Regression (Sklearn)\n"
     ]
    }
   ],
   "source": [
    "print('1. Fit direct Linear Regression (Sklearn)')\n",
    "lin_reg = LinearRegression()\n",
    "lin_reg.fit(X_train, y_train)\n",
    "y_test_sklearn = np.dot(X_test, lin_reg.coef_) + lin_reg.intercept_"
   ]
  },
  {
   "cell_type": "markdown",
   "metadata": {},
   "source": [
    "Thereafter, **Ridge Regression** (Scikit-learn) is deployed to the trainingsset.\n",
    "**Ridge Regression** avoids overfitting with $L^{2}$ regularisation.\n",
    "The trainings dataset is divided into $n$ subtrain and validation sets. \n",
    "Then, the optimal alpha, which minimzes the validation MSE, is found with Cross Validation (CV) for every set.\n",
    "The CV for $n$ datasets is repeated 100 for decreasing the variance of the optimal alphas.\n",
    "The optima are found with the **golden section search**. \n",
    "The **golden section search** finds the mimimum in a given intervall, for strictly unimodal functions.\n",
    "The optimal alpha for the training on the full dataset, is set to the mean of all found alphas."
   ]
  },
  {
   "cell_type": "code",
   "execution_count": 7,
   "metadata": {},
   "outputs": [],
   "source": [
    "def MSE_alpha (alpha, X_train, y_train, X_val, y_val):\n",
    "    ridge_ridge = Ridge(alpha=alpha)\n",
    "    ridge_ridge.fit(X_train, y_train)\n",
    "    y_val_hat = np.dot(X_val, ridge_ridge.coef_) + ridge_ridge.intercept_\n",
    "    MSE_ = Metric_regression().fun_MSE(y_val, y_val_hat)\n",
    "    return (MSE_) "
   ]
  },
  {
   "cell_type": "code",
   "execution_count": 8,
   "metadata": {},
   "outputs": [
    {
     "data": {
      "image/png": "[encoded data removed]",
      "text/plain": [
       "<Figure size 432x288 with 1 Axes>"
      ]
     },
     "metadata": {
      "needs_background": "light"
     },
     "output_type": "display_data"
    }
   ],
   "source": [
    "n_split = int(y.shape[0]*0.55)\n",
    "X_train_1 = X_train[:n_split,:]\n",
    "y_train_1 = y_train[:n_split]\n",
    "X_val_1 = X_train[n_split:,:]\n",
    "y_val_1 = y_train[n_split:]\n",
    "\n",
    "MSE_min = lambda alpha: MSE_alpha(alpha, X_train=X_train_1, y_train=y_train_1, X_val=X_val_1, y_val=y_val_1)\n",
    "MSE_min_vec = np.vectorize(MSE_min)\n",
    "alpha_array = np.linspace(0, 100, 100)\n",
    "plt.plot(alpha_array, MSE_min_vec(alpha_array))\n",
    "plt.xlabel(r'$\\alpha$ / -')\n",
    "plt.ylabel('MSE$_{\\mathrm{val}}$ / -')\n",
    "plt.show()"
   ]
  },
  {
   "cell_type": "code",
   "execution_count": 9,
   "metadata": {},
   "outputs": [
    {
     "name": "stdout",
     "output_type": "stream",
     "text": [
      "Mean MSE Cross Validation = 3154.19\n",
      "Best alpha = 33.7 +- 38.8\n"
     ]
    }
   ],
   "source": [
    "n_bags = 3\n",
    "n_repetition = 100\n",
    "alpha_opt_list = []\n",
    "MSE_mean = 0\n",
    "for n_rep in range (n_repetition):\n",
    "    bags_list = preparation_cross_validation(X_train, y_train, n_bags)\n",
    "    for n_val in range (n_bags):\n",
    "        X_train_ = []\n",
    "        y_train_ = []\n",
    "        X_val_ = np.array(bags_list[n_val].x)\n",
    "        y_val_ =  np.array(bags_list[n_val].y)\n",
    "        for n in range (n_bags):\n",
    "            if n_val != n:\n",
    "                X_train_ += bags_list[n].x\n",
    "                y_train_ += bags_list[n].y\n",
    "        X_train_ = np.array(X_train_)\n",
    "        y_train_ = np.array(y_train_)\n",
    "\n",
    "        MSE_min = lambda alpha: MSE_alpha(alpha, X_train=X_train_, y_train=y_train_, X_val=X_val_, y_val=y_val_)\n",
    "        MSE_min_vec = np.vectorize(MSE_min)\n",
    "        alpha_opt = golden_section_search(MSE_min, 0, 10000, 1E-8)\n",
    "        alpha_opt_list.append(alpha_opt)\n",
    "        MSE_mean += MSE_min(alpha_opt) / n_bags / n_repetition\n",
    "        #print('MSE (on validation set {}/{}) = {:.2f} | alpha = {:.2g}'.format(n_val+1, n_bags, MSE_min(alpha_opt), alpha_opt))  \n",
    "best_alpha = np.array(alpha_opt_list)\n",
    "print('Mean MSE Cross Validation = {:.2f}'.format(MSE_mean))\n",
    "print('Best alpha = {:.3g} +- {:.3g}'.format(np.mean(best_alpha), best_alpha.var(ddof=1)**0.5))\n",
    "ridge_reg = Ridge(np.mean(best_alpha))\n",
    "ridge_reg.fit(X_train, y_train)\n",
    "y_test_ridge_sklearn = np.dot(X_test, ridge_reg.coef_) + ridge_reg.intercept_"
   ]
  },
  {
   "cell_type": "markdown",
   "metadata": {},
   "source": [
    "### Setting the maximum of iteration\n",
    "4 models based on Stochastic Gradient Descent (SGD) with ADAM are fitted.\n",
    "The maximum amount of Epoch is set for all SGD models."
   ]
  },
  {
   "cell_type": "code",
   "execution_count": 10,
   "metadata": {},
   "outputs": [],
   "source": [
    "max_epoch = 1E5\n",
    "model_list = []"
   ]
  },
  {
   "cell_type": "markdown",
   "metadata": {},
   "source": [
    "### SGD with ADAM"
   ]
  },
  {
   "cell_type": "code",
   "execution_count": 11,
   "metadata": {},
   "outputs": [
    {
     "name": "stdout",
     "output_type": "stream",
     "text": [
      "2. SGD with Adam on train:\n",
      "Epoch: 10000 | MSE_train: 3020.46\n",
      "Epoch: 20000 | MSE_train: 3012.56\n",
      "Epoch: 30000 | MSE_train: 3005.28\n",
      "Epoch: 40000 | MSE_train: 3010.19\n",
      "Epoch: 50000 | MSE_train: 3007.67\n",
      "Epoch: 60000 | MSE_train: 3010.47\n",
      "Epoch: 70000 | MSE_train: 3016.50\n",
      "Epoch: 80000 | MSE_train: 3010.85\n",
      "Epoch: 90000 | MSE_train: 3006.53\n",
      "Epoch: 100000 | MSE_train: 3006.27\n",
      "##################################################\n"
     ]
    }
   ],
   "source": [
    "Gradient_descent_1 = ADAM(max_epoch=max_epoch, eta=.1, batch_size=1)\n",
    "print('2. {} on train:'.format(Gradient_descent_1.name))\n",
    "Gradient_descent_1(X_train, y_train) \n",
    "model_list.append(Gradient_descent_1)"
   ]
  },
  {
   "cell_type": "markdown",
   "metadata": {},
   "source": [
    "### SGD with ADAM and learning rate decay"
   ]
  },
  {
   "cell_type": "code",
   "execution_count": 12,
   "metadata": {},
   "outputs": [
    {
     "name": "stdout",
     "output_type": "stream",
     "text": [
      "3. SGD with ADAM and learning rate decay on train:\n",
      "New learning rate: 0.032\n",
      "New learning rate: 0.01\n",
      "New learning rate: 0.0032\n",
      "New learning rate: 0.001\n",
      "New learning rate: 0.00032\n",
      "New learning rate: 0.0001\n",
      "New learning rate: 3.2e-05\n",
      "New learning rate: 1e-05\n",
      "##################################################\n"
     ]
    }
   ],
   "source": [
    "Gradient_descent_2 = ADAM_learning_rate_decay(max_epoch=max_epoch, eta=.1, batch_size=1, patience=1E2)\n",
    "print('3. {} on train:'.format(Gradient_descent_2.name))\n",
    "Gradient_descent_2(X_train, y_train)\n",
    "model_list.append(Gradient_descent_2)"
   ]
  },
  {
   "cell_type": "markdown",
   "metadata": {},
   "source": [
    "### SGD with ADAM and learning rate decay (evaluation on validation set)"
   ]
  },
  {
   "cell_type": "code",
   "execution_count": 13,
   "metadata": {},
   "outputs": [
    {
     "name": "stdout",
     "output_type": "stream",
     "text": [
      "4. SGD with ADAM and learning rate decay on subtrain:\n",
      "New learning rate: 0.032\n",
      "New learning rate: 0.01\n",
      "New learning rate: 0.0032\n",
      "New learning rate: 0.001\n",
      "New learning rate: 0.00032\n",
      "New learning rate: 0.0001\n",
      "New learning rate: 3.2e-05\n",
      "New learning rate: 1e-05\n",
      "##################################################\n"
     ]
    }
   ],
   "source": [
    "Gradient_descent_2_2 = ADAM_learning_rate_decay(max_epoch=max_epoch, eta=.1, batch_size=1, patience=1E2)\n",
    "print('4. {} on subtrain:'.format(Gradient_descent_2_2.name))\n",
    "split = int(X_train.shape[0]*0.8)\n",
    "Gradient_descent_2_2(X_train[:split], y_train[:split],\n",
    "                     X_train[split:], y_train[split:]\n",
    "                     )\n",
    "model_list.append(Gradient_descent_2_2)"
   ]
  },
  {
   "cell_type": "markdown",
   "metadata": {},
   "source": [
    "### SGD with ADAM and learning rate decay (full training)"
   ]
  },
  {
   "cell_type": "code",
   "execution_count": 14,
   "metadata": {},
   "outputs": [
    {
     "name": "stdout",
     "output_type": "stream",
     "text": [
      "6. SGD with ADAM and learning rate decay and full training on subtrain and train, respectively:\n",
      "New learning rate: 0.032\n",
      "New learning rate: 0.01\n",
      "New learning rate: 0.0032\n",
      "New learning rate: 0.001\n",
      "New learning rate: 0.00032\n",
      "New learning rate: 0.0001\n",
      "New learning rate: 3.2e-05\n",
      "New learning rate: 1e-05\n",
      "Start full training!\n",
      "New learning rate: 0.032\n",
      "New learning rate: 0.01\n",
      "New learning rate: 0.0032\n",
      "New learning rate: 0.001\n",
      "New learning rate: 0.00032\n",
      "New learning rate: 0.0001\n",
      "New learning rate: 3.2e-05\n",
      "New learning rate: 1e-05\n",
      "##################################################\n"
     ]
    }
   ],
   "source": [
    "Gradient_descent_3 = ADAM_learning_rate_decay_full_train(max_epoch=max_epoch, eta=.1, batch_size=1, patience=1E2)\n",
    "print('6. {} on subtrain and train, respectively:'.format(Gradient_descent_3.name))\n",
    "Gradient_descent_3(X_train, y_train)\n",
    "model_list.append(Gradient_descent_3)"
   ]
  },
  {
   "cell_type": "markdown",
   "metadata": {},
   "source": [
    "## 5. Evaluation of the models\n",
    "### Comparing the weights and bias"
   ]
  },
  {
   "cell_type": "code",
   "execution_count": 15,
   "metadata": {},
   "outputs": [
    {
     "name": "stdout",
     "output_type": "stream",
     "text": [
      "                                                        0        1     2  \\\n",
      "Sklearn                                             152.4 -2.1e-02 -11.3   \n",
      "Rdge                                                152.3  3.6e-01 -10.0   \n",
      "SGD with Adam                                       152.5 -2.0e-01 -12.3   \n",
      "SGD with ADAM and learning rate decay               152.4  3.9e-01 -11.8   \n",
      "SGD with ADAM and learning rate decay metric on...  152.0  9.4e-03 -12.6   \n",
      "SGD with ADAM and learning rate decay and full ...  152.0 -5.7e-02 -12.5   \n",
      "\n",
      "                                                       3     4     5     6  \\\n",
      "Sklearn                                             24.7  14.5 -35.8  20.4   \n",
      "Rdge                                                23.4  13.5  -4.7  -3.0   \n",
      "SGD with Adam                                       24.4  14.8 -63.1  40.5   \n",
      "SGD with ADAM and learning rate decay               24.0  14.7 -53.0  33.7   \n",
      "SGD with ADAM and learning rate decay metric on...  24.6  13.2 -43.9  25.4   \n",
      "SGD with ADAM and learning rate decay and full ...  24.5  13.1 -47.5  28.4   \n",
      "\n",
      "                                                       7     8     9   10  \n",
      "Sklearn                                              4.7  10.2  32.8  4.6  \n",
      "Rdge                                                -8.5   6.5  19.9  5.3  \n",
      "SGD with Adam                                       14.7  13.1  43.9  4.5  \n",
      "SGD with ADAM and learning rate decay               11.7  12.0  40.5  3.9  \n",
      "SGD with ADAM and learning rate decay metric on...   9.3  10.8  40.8  4.5  \n",
      "SGD with ADAM and learning rate decay and full ...  10.8  11.1  42.1  4.5  \n"
     ]
    }
   ],
   "source": [
    "pd.set_option('display.max_columns', None)\n",
    "pd.set_option('display.max_rows', None)\n",
    "compare_weights = pd.DataFrame()\n",
    "compare_weights['Sklearn'] = np.append(lin_reg.intercept_ , lin_reg.coef_ )\n",
    "compare_weights['Rdge'] = np.append(ridge_reg.intercept_ , ridge_reg.coef_ )\n",
    "for SGD_model in model_list:\n",
    "    column_name = SGD_model.name\n",
    "    if column_name == 'SGD with Adam':\n",
    "        w = SGD_model.theta\n",
    "        w_0 = SGD_model.theta_0\n",
    "    \n",
    "    else:\n",
    "        w = SGD_model.best_theta\n",
    "        w_0 = SGD_model.best_theta_0\n",
    "    compare_weights[column_name] = np.append(w_0, w)\n",
    "pd.set_option('display.precision', 1)\n",
    "print(compare_weights.T)   "
   ]
  },
  {
   "cell_type": "markdown",
   "metadata": {},
   "source": [
    "### Model Performance\n",
    "The Mean Squared Error (MSE) on the test data set is compared.\n",
    "In addition, the increase in MSE is referenced to the analytical solution."
   ]
  },
  {
   "cell_type": "code",
   "execution_count": 16,
   "metadata": {},
   "outputs": [
    {
     "name": "stdout",
     "output_type": "stream",
     "text": [
      "                                                    Deviation / %     MSE\n",
      "Sklearn                                                       0.0  1735.9\n",
      "Ridge                                                        -6.2  1843.9\n",
      "SGD with Adam                                                 2.4  1695.0\n",
      "SGD with ADAM and learning rate decay                         2.6  1690.3\n",
      "SGD with ADAM and learning rate decay metric on...            5.0  1648.8\n",
      "SGD with ADAM and learning rate decay and full ...            5.0  1648.9\n"
     ]
    }
   ],
   "source": [
    "MSE_compare = pd.Series(dtype=float)\n",
    "ARD_compare = pd.Series(dtype=float) \n",
    "MSE_sklearn = Metric_regression().fun_MSE(y_test, y_test_sklearn)\n",
    "MSE_ridge = Metric_regression().fun_MSE(y_test, y_test_ridge_sklearn)\n",
    "MSE_compare['Sklearn'] = MSE_sklearn\n",
    "MSE_compare['Ridge'] = MSE_ridge\n",
    "ARD_compare['Sklearn'] = 0\n",
    "ARD_compare['Ridge'] = -(MSE_ridge - MSE_sklearn)  / MSE_sklearn*100\n",
    "for SGD_model in model_list:\n",
    "    column_name = SGD_model.name\n",
    "    MSE_test = SGD_model.MSE(X_test, y_test)\n",
    "    MSE_compare[column_name] = MSE_test\n",
    "    ARD_compare[column_name] = -(MSE_test-MSE_sklearn) / MSE_sklearn*100\n",
    "\n",
    "MSE_DF = MSE_compare.to_frame(name='MSE')\n",
    "ARD_DF = ARD_compare.to_frame(name='Deviation / %')\n",
    "performance_DF = pd.concat([ARD_DF, MSE_DF], axis=1)\n",
    "print(performance_DF)"
   ]
  },
  {
   "cell_type": "markdown",
   "metadata": {},
   "source": [
    "The analytical solution of the **Linear Regression** is set to the baseline of the models. \n",
    "SDG with ADAM improves the performance of the test MSE.\n",
    "Allthough SGD with ADAM is adaptive, the performance increases rises from **4.2 %** to **5.0 %** when applying learning rate decay. \n",
    "In case of SGD with ADA; and leraning rate decay, the MSE increase improves fom **2.6 %** to **5.0 %** if the metric is applied on the validation dataset.\n",
    "Therefore, Early Stopping must be evaluated on a validation dataset to avoid overfitting.\n",
    "\n",
    "Interestingly, for this particular dataset the **Ridge Regression** seems not to improve the error on the test set. \n",
    "Probably, the high  standard deviation of the optimized alpha **(33.7 +- 38.8)** causes a non optimal selection of the alpha. A different regulariation, e.g. Lasso or Elastic Net, may improve the performance on the test dataset."
   ]
  },
  {
   "cell_type": "code",
   "execution_count": null,
   "metadata": {},
   "outputs": [],
   "source": []
  }
 ],
 "metadata": {
  "kernelspec": {
   "display_name": "Python 3",
   "language": "python",
   "name": "python3"
  },
  "language_info": {
   "codemirror_mode": {
    "name": "ipython",
    "version": 3
   },
   "file_extension": ".py",
   "mimetype": "text/x-python",
   "name": "python",
   "nbconvert_exporter": "python",
   "pygments_lexer": "ipython3",
   "version": "3.8.3"
  }
 },
 "nbformat": 4,
 "nbformat_minor": 4
}
